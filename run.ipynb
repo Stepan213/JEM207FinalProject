{
 "cells": [
  {
   "cell_type": "code",
   "execution_count": null,
   "metadata": {},
   "outputs": [],
   "source": [
    "from app import data_imports\n",
    "from app import data_cleaning\n",
    "from app import summary_stats   \n",
    "from app import models\n",
    "from app import visualisations"
   ]
  },
  {
   "cell_type": "markdown",
   "metadata": {},
   "source": [
    "# Where is the dataset?"
   ]
  },
  {
   "cell_type": "code",
   "execution_count": null,
   "metadata": {},
   "outputs": [],
   "source": [
    "filepath = 'examples/data_science_salaries.csv'"
   ]
  },
  {
   "cell_type": "code",
   "execution_count": null,
   "metadata": {},
   "outputs": [],
   "source": [
    "import os\n",
    "\n",
    "if os.path.isfile(filepath):\n",
    "    print('\\033[92;1m' + 'File successfully found!' + '\\033[0m')\n",
    "else:\n",
    "    raise SystemExit(\"File not found. Stopping execution.\")\n"
   ]
  },
  {
   "cell_type": "code",
   "execution_count": null,
   "metadata": {},
   "outputs": [],
   "source": [
    "df = data_imports.read_file(filepath)\n",
    "\n",
    "cleaner = data_cleaning.DataCleaner(df)\n",
    "\n",
    "cleaner.clean()\n",
    "\n",
    "print(cleaner.get_log())"
   ]
  },
  {
   "cell_type": "code",
   "execution_count": null,
   "metadata": {},
   "outputs": [],
   "source": [
    "cols = df.columns.tolist()\n",
    "\n",
    "print(\"The columns in the dataset are:\\n\")\n",
    "cols_str = '\\n'.join([f\"- {col}\" for col in cols])\n",
    "print(cols_str)"
   ]
  },
  {
   "cell_type": "markdown",
   "metadata": {},
   "source": [
    "# Do you have interest in any specific variable?\n",
    "\n",
    "It is not practical to consider all relationships at the same time. \n",
    "\n",
    "**You do not have to specify any variables at all.** The explanatory statistics will then be applied to all variables at once. Note that the modelling will, however, be limited."
   ]
  },
  {
   "cell_type": "code",
   "execution_count": null,
   "metadata": {},
   "outputs": [],
   "source": [
    "# e.g. target_variable = 'price'\n",
    "target_variable = ''\n",
    "\n",
    "# e.g. other_variables_of_interest = ['sqft_living', 'bedrooms', 'bathrooms']\n",
    "other_variables_of_interest = []#'b', 'lstat', 'rm']"
   ]
  },
  {
   "cell_type": "code",
   "execution_count": null,
   "metadata": {},
   "outputs": [],
   "source": [
    "if not target_variable and not other_variables_of_interest:\n",
    "    print('\\033[91;1m' + \"Both target_variable and other_variables_of_interest are empty.\" + '\\033[0m')\n",
    "elif not target_variable and other_variables_of_interest:\n",
    "    print('\\033[91;1m' + \"Target variable has not been specified. Proceeding with the first column in the dataset.\" + '\\033[0m')\n",
    "    target_variable = df.columns[0] \n",
    "elif target_variable and not other_variables_of_interest:\n",
    "    other_variables_of_interest = df.columns.tolist()\n",
    "    print('\\033[91;1m' + \"Other variables of interest have not been specified. Proceeding with the whole dataset.\" + '\\033[0m')\n",
    "\n",
    "if target_variable in other_variables_of_interest:\n",
    "    other_variables_of_interest.remove(target_variable)\n"
   ]
  },
  {
   "cell_type": "code",
   "execution_count": null,
   "metadata": {},
   "outputs": [],
   "source": [
    "if target_variable and other_variables_of_interest:\n",
    "    summary_stats.summary_statistics(df[[target_variable] + other_variables_of_interest])\n",
    "elif target_variable:\n",
    "    print(summary_stats.summary_statistics(df[[target_variable]]))\n",
    "else:\n",
    "    print(summary_stats.summary_statistics(df))\n"
   ]
  },
  {
   "cell_type": "code",
   "execution_count": null,
   "metadata": {},
   "outputs": [],
   "source": [
    "model = models.RegressionModel()\n",
    "\n",
    "try:\n",
    "    if target_variable and other_variables_of_interest:\n",
    "        model.split_data(df=df, variables=other_variables_of_interest, target=target_variable)\n",
    "    model.train()\n",
    "    model.predict(['6.28', '12.65', '18.45'])\n",
    "except Exception as e:\n",
    "    print(e)"
   ]
  },
  {
   "cell_type": "code",
   "execution_count": null,
   "metadata": {},
   "outputs": [],
   "source": [
    "visualiser = visualisations.Visualization(df, variables=other_variables_of_interest, target=target_variable)\n",
    "\n",
    "visualiser.plot_all()"
   ]
  }
 ],
 "metadata": {
  "kernelspec": {
   "display_name": "venv",
   "language": "python",
   "name": "python3"
  },
  "language_info": {
   "codemirror_mode": {
    "name": "ipython",
    "version": 3
   },
   "file_extension": ".py",
   "mimetype": "text/x-python",
   "name": "python",
   "nbconvert_exporter": "python",
   "pygments_lexer": "ipython3",
   "version": "3.11.5"
  }
 },
 "nbformat": 4,
 "nbformat_minor": 2
}
