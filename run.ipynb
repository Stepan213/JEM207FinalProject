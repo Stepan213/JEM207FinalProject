{
 "cells": [
  {
   "cell_type": "code",
   "execution_count": null,
   "metadata": {},
   "outputs": [],
   "source": [
    "from app import data_imports\n",
    "from app import data_cleaning\n",
    "from app import summary_stats   \n",
    "from app import models\n",
    "from app import visualisations"
   ]
  },
  {
   "cell_type": "code",
   "execution_count": null,
   "metadata": {},
   "outputs": [],
   "source": [
    "filepath = 'examples/Sample_Sales_Data.xlsx'"
   ]
  },
  {
   "cell_type": "code",
   "execution_count": null,
   "metadata": {},
   "outputs": [],
   "source": [
    "df = data_imports.read_file(filepath)\n",
    "\n",
    "df = data_cleaning.na_handling(df)\n",
    "\n",
    "df = data_cleaning.outlier_handling(df)"
   ]
  },
  {
   "cell_type": "code",
   "execution_count": null,
   "metadata": {},
   "outputs": [],
   "source": [
    "summary_stats.summary_statistics(df)"
   ]
  },
  {
   "cell_type": "code",
   "execution_count": null,
   "metadata": {},
   "outputs": [],
   "source": [
    "model = models.RegressionModel()\n",
    "\n",
    "try:\n",
    "    model.split_data(df = df, variables=['rm', 'lstat', 'ptratio'], target='medv')\n",
    "    model.train()\n",
    "    model.predict(['6.28', '12.65', '18.45'])\n",
    "except Exception as e:\n",
    "    print(e)"
   ]
  },
  {
   "cell_type": "code",
   "execution_count": null,
   "metadata": {},
   "outputs": [],
   "source": [
    "visualiser = visualisations.Visualization(df, variables=['rm', 'lstat', 'ptratio'], target='medv')\n",
    "\n",
    "visualiser.plot_correlation()"
   ]
  }
 ],
 "metadata": {
  "kernelspec": {
   "display_name": "venv",
   "language": "python",
   "name": "python3"
  },
  "language_info": {
   "codemirror_mode": {
    "name": "ipython",
    "version": 3
   },
   "file_extension": ".py",
   "mimetype": "text/x-python",
   "name": "python",
   "nbconvert_exporter": "python",
   "pygments_lexer": "ipython3",
   "version": "3.11.5"
  }
 },
 "nbformat": 4,
 "nbformat_minor": 2
}
