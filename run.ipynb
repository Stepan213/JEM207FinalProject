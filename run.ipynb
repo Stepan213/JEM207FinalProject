{
 "cells": [
  {
   "cell_type": "code",
   "execution_count": null,
   "metadata": {},
   "outputs": [],
   "source": [
    "from app import data_imports\n",
    "from app import data_cleaning\n",
    "from app import summary_stats   \n",
    "from app import models\n",
    "from app import visualisations"
   ]
  },
  {
   "cell_type": "markdown",
   "metadata": {},
   "source": [
    "# Where is the dataset?"
   ]
  },
  {
   "cell_type": "code",
   "execution_count": null,
   "metadata": {},
   "outputs": [],
   "source": [
    "filepath = 'examples/boston_housing.csv'"
   ]
  },
  {
   "cell_type": "code",
   "execution_count": null,
   "metadata": {},
   "outputs": [],
   "source": [
    "# SYSTEM CODE\n",
    "\n",
    "import os\n",
    "\n",
    "if os.path.isfile(filepath):\n",
    "    print('\\033[92;1m' + 'File successfully found!' + '\\033[0m')\n",
    "else:\n",
    "    raise SystemExit(\"File not found. Stopping execution.\")\n"
   ]
  },
  {
   "cell_type": "code",
   "execution_count": null,
   "metadata": {},
   "outputs": [],
   "source": [
    "# SYSTEM CODE\n",
    "\n",
    "df = data_imports.read_file(filepath)\n",
    "\n",
    "cleaner = data_cleaning.DataCleaner(df)\n",
    "\n",
    "cleaner.clean()\n",
    "\n",
    "print(cleaner.get_log())"
   ]
  },
  {
   "cell_type": "code",
   "execution_count": null,
   "metadata": {},
   "outputs": [],
   "source": [
    "# SYSTEM CODE\n",
    "\n",
    "cols = df.columns.tolist()\n",
    "\n",
    "cols_str = '\\n'.join([f\"- {col} ({df[col].dtype})\" for col in cols])\n",
    "print(\"The columns in the dataset are:\\n\")\n",
    "print(cols_str)"
   ]
  },
  {
   "cell_type": "markdown",
   "metadata": {},
   "source": [
    "# Do you have interest in any specific variable?\n",
    "\n",
    "It is not practical to consider all relationships at the same time. \n",
    "\n",
    "**You do not have to specify any variables at all.** The explanatory statistics will then be applied to all variables at once. Note that the modelling will, however, be limited."
   ]
  },
  {
   "cell_type": "code",
   "execution_count": null,
   "metadata": {},
   "outputs": [],
   "source": [
    "# e.g. target_variable = 'price'\n",
    "target_variable = 'medv'\n",
    "\n",
    "# e.g. other_variables_of_interest = ['sqft_living', 'bedrooms', 'bathrooms']\n",
    "other_variables_of_interest = ['lstat', 'rm', 'ptratio', 'b']"
   ]
  },
  {
   "cell_type": "code",
   "execution_count": null,
   "metadata": {},
   "outputs": [],
   "source": [
    "# SYSTEM CODE\n",
    "\n",
    "if not target_variable and not other_variables_of_interest:\n",
    "    print('\\033[91;1m' + \"Both target_variable and other_variables_of_interest are empty.\" + '\\033[0m')\n",
    "elif not target_variable and other_variables_of_interest:\n",
    "    print('\\033[91;1m' + \"Target variable has not been specified. Proceeding with the first column in the dataset.\" + '\\033[0m')\n",
    "    target_variable = df.columns[0] \n",
    "elif target_variable and not other_variables_of_interest:\n",
    "    other_variables_of_interest = df.columns.tolist()\n",
    "    print('\\033[91;1m' + \"Other variables of interest have not been specified. Proceeding with the whole dataset.\" + '\\033[0m')\n",
    "\n",
    "if target_variable in other_variables_of_interest:\n",
    "    other_variables_of_interest.remove(target_variable)\n"
   ]
  },
  {
   "cell_type": "code",
   "execution_count": null,
   "metadata": {},
   "outputs": [],
   "source": [
    "# SYSTEM CODE\n",
    "\n",
    "if target_variable and other_variables_of_interest:\n",
    "    summary_stats.numeric_statistics(df[[target_variable] + other_variables_of_interest])\n",
    "    summary_stats.categorical_statistics(df[[target_variable] + other_variables_of_interest])\n",
    "elif target_variable:\n",
    "    print(summary_stats.numeric_statistics(df[[target_variable]]))\n",
    "    print(summary_stats.categorical_statistics(df[[target_variable]]))\n",
    "else:\n",
    "    print(summary_stats.numeric_statistics(df))\n",
    "    print(summary_stats.categorical_statistics(df))\n"
   ]
  },
  {
   "cell_type": "code",
   "execution_count": null,
   "metadata": {},
   "outputs": [],
   "source": [
    "# SYSTEM CODE\n",
    "\n",
    "visualiser = visualisations.Visualization(df, variables=other_variables_of_interest, target=target_variable)\n",
    "\n",
    "visualiser.plot_all()"
   ]
  },
  {
   "cell_type": "markdown",
   "metadata": {},
   "source": [
    "# Models\n",
    "\n",
    "Below you may choose to fit a model to your data. You may customize the values below, or leave them as they are."
   ]
  },
  {
   "cell_type": "code",
   "execution_count": null,
   "metadata": {},
   "outputs": [],
   "source": [
    "from scipy.stats import uniform\n",
    "\n",
    "model_type = 'linear_regression' # options: random_forest, lasso, ridge, linear_regression\n",
    "search_method = 'none' # options: grid_search, random_search,bayesian_optimization, none (for e.g. linear regression)\n",
    "\n",
    "target = '' # e.g. target_variable = 'price'\n",
    "\n",
    "# e.g. modeling_variables = ['sqft_living', 'bedrooms', 'bathrooms']\n",
    "modeling_variables = []\n",
    "\n",
    "hyperpar_grid = {\n",
    "    'alpha': uniform(0.001, 1.0),  # Range for regularization strength\n",
    "    'fit_intercept': [True, False],  # Whether to calculate the intercept for the model\n",
    "    'max_iter': [100, 200, 300, 400, 500],  # Maximum number of iterations for optimization\n",
    "    'tol': [1e-4, 1e-3, 1e-2, 1e-1],  # Tolerance for optimization convergence\n",
    "}\n",
    "\n",
    "# random_forest example: {'n_estimators': [10,20,30,150], 'max_depth': [None, 10, 20,30]}\n",
    "# lasso example: {'alpha': uniform(0.001, 1.0),  # Range for regularization strength,'fit_intercept': [True, False],'max_iter': [100, 200, 300, 400, 500], 'tol': [1e-4, 1e-3, 1e-2, 1e-1]}\n",
    "\n",
    "cv = 10\n",
    "n_iter=15\n",
    "random_state = 42\n"
   ]
  },
  {
   "cell_type": "code",
   "execution_count": null,
   "metadata": {},
   "outputs": [],
   "source": [
    "# SYSTEM CODE\n",
    "\n",
    "if not target:\n",
    "    if target_variable:\n",
    "        target = target_variable\n",
    "    else:\n",
    "        target = df.columns[0]\n",
    "\n",
    "if not modeling_variables:\n",
    "    if other_variables_of_interest:\n",
    "        modeling_variables = [col for col in df.columns if col != target]\n",
    "    else:\n",
    "        modeling_variables = [col for col in df.columns if col != target]\n",
    "\n",
    "model = models.RegressionModel(model_type=model_type, hyperpar_grid=hyperpar_grid, cv=cv, n_iter=n_iter, random_state=random_state)\n",
    "model.split_data(df, variables=modeling_variables, target=target, test_size=0.2)\n",
    "model.train(search_method=search_method)\n",
    "\n",
    "mse = model.evaluate()\n",
    "print(f\"Mean Squared Error: {mse}\")"
   ]
  },
  {
   "cell_type": "code",
   "execution_count": null,
   "metadata": {},
   "outputs": [],
   "source": [
    "import matplotlib.pyplot as plt\n",
    "import numpy as np\n",
    "\n",
    "\n",
    "predictions = model.predict(model.X_test)\n",
    " \n",
    "plt.figure(figsize=(10, 6))\n",
    "plt.scatter(model.Y_test, predictions, alpha=0.3)\n",
    "plt.plot([model.Y_test.min(), model.Y_test.max()], [model.Y_test.min(), model.Y_test.max()], 'k--', lw=3)  # Diagonal line\n",
    "plt.xlabel('Actual')\n",
    "plt.ylabel('Predicted')\n",
    "plt.title('Prediction Error Plot')\n",
    "plt.show()\n"
   ]
  },
  {
   "cell_type": "code",
   "execution_count": null,
   "metadata": {},
   "outputs": [],
   "source": [
    "# SYSTEM CODE\n",
    "\n",
    "index = [0,1] # replace with your own values\n",
    "\n",
    "from app import visualisations\n",
    "visualization = visualisations.Visualization(df,model=model, X_test=model.X_test,model_type=model_type)\n",
    "visualization.generate_shap_values()\n",
    "visualization.plot_shap_summary()\n",
    "for i in range(len(index)):\n",
    "    visualization.plot_shap_force(index=index[i])\n"
   ]
  }
 ],
 "metadata": {
  "kernelspec": {
   "display_name": "venv",
   "language": "python",
   "name": "python3"
  },
  "language_info": {
   "codemirror_mode": {
    "name": "ipython",
    "version": 3
   },
   "file_extension": ".py",
   "mimetype": "text/x-python",
   "name": "python",
   "nbconvert_exporter": "python",
   "pygments_lexer": "ipython3",
   "version": "3.11.5"
  }
 },
 "nbformat": 4,
 "nbformat_minor": 2
}
