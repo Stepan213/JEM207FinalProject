{
 "cells": [
  {
   "cell_type": "markdown",
   "metadata": {},
   "source": [
    "# The main file of the project."
   ]
  },
  {
   "cell_type": "markdown",
   "metadata": {},
   "source": [
    "The Boston Housing Dataset has been removed from the Scikit-Learn library in December 2022, after decades of its use for teaching purposes. \n",
    "\n",
    "Importing the dataset in the traditional way now throws the following error:"
   ]
  },
  {
   "cell_type": "code",
   "execution_count": null,
   "metadata": {},
   "outputs": [],
   "source": [
    "from sklearn import datasets\n",
    "\n",
    "try:\n",
    "    bostn = datasets.load_boston()\n",
    "except Exception as e:\n",
    "    print(e)\n"
   ]
  },
  {
   "cell_type": "markdown",
   "metadata": {},
   "source": [
    "# Obtaining the data \"by hand\""
   ]
  },
  {
   "cell_type": "markdown",
   "metadata": {},
   "source": [
    "The documentation of Scikit-Learn advises users to obtain the dataset in the csv format from its original source. We respect that and then convert the data to a well-formatted Pandas DataFrame. "
   ]
  },
  {
   "cell_type": "markdown",
   "metadata": {},
   "source": [
    "In the dataset, there are 14 variables:\n",
    "\n",
    "- **CRIM**: per capita crime rate by town\n",
    "- **ZN**: proportion of residential land zoned for lots over 25,000 sq.ft.\n",
    "- **INDUS**: proportion of non-retail business acres per town\n",
    "- **CHAS**: Charles River dummy variable (= 1 if tract bounds river; 0 otherwise)\n",
    "- **NOX**: nitric oxides concentration (parts per 10 million)\n",
    "- **RM**: average number of rooms per dwelling\n",
    "- **AGE**: proportion of owner-occupied units built prior to 1940\n",
    "- **DIS**: weighted distances to five Boston employment centres\n",
    "- **RAD**: index of accessibility to radial highways\n",
    "- **TAX**: full-value property-tax rate per $10,000\n",
    "- **PTRATIO**: pupil-teacher ratio by town\n",
    "- **B**: 1000(Bk - 0.63)^2 where Bk is the proportion of blacks by town\n",
    "- **LSTAT**: % lower status of the population\n",
    "- **MEDV**: Median value of owner-occupied homes in $1000's\n"
   ]
  },
  {
   "cell_type": "code",
   "execution_count": null,
   "metadata": {},
   "outputs": [],
   "source": [
    "# Import the data as instructed by documentation\n",
    "\n",
    "import pandas as pd\n",
    "import numpy as np\n",
    "\n",
    "data_url = \"http://lib.stat.cmu.edu/datasets/boston\"\n",
    "raw_df = pd.read_csv(data_url, sep=\"\\s+\", skiprows=22, header=None)\n",
    "\n",
    "# Split the data into data and target\n",
    "data = np.hstack([raw_df.values[::2, :], raw_df.values[1::2, :2]])\n",
    "target = raw_df.values[1::2, 2]\n",
    "\n",
    "# Convert the data to a well-formatted dataframe\n",
    "\n",
    "column_names = [\n",
    "    \"CRIM\", \"ZN\", \"INDUS\", \"CHAS\", \"NOX\", \"RM\", \"AGE\",\n",
    "    \"DIS\", \"RAD\", \"TAX\", \"PTRATIO\", \"B\", \"LSTAT\", \"MEDV\"\n",
    "]\n",
    "\n",
    "feature_columns = column_names[:-1]  # All columns except the target\n",
    "target_column = column_names[-1]     # The target column\n",
    "\n",
    "# Construct the features DataFrame\n",
    "boston_df = pd.DataFrame(data, columns=feature_columns)\n",
    "\n",
    "# Add the target to the DataFrame\n",
    "boston_df[target_column] = target\n"
   ]
  },
  {
   "cell_type": "markdown",
   "metadata": {},
   "source": [
    "# Exploration & Cleaning"
   ]
  },
  {
   "cell_type": "code",
   "execution_count": null,
   "metadata": {},
   "outputs": [],
   "source": [
    "boston_df.describe()"
   ]
  },
  {
   "cell_type": "code",
   "execution_count": null,
   "metadata": {},
   "outputs": [],
   "source": [
    "boston_df.isnull().sum()"
   ]
  },
  {
   "cell_type": "markdown",
   "metadata": {},
   "source": [
    "There are no missing values. Let us deploy some techniques to potentically uncover filled-in values that could affect the natural data:"
   ]
  },
  {
   "cell_type": "markdown",
   "metadata": {},
   "source": [
    "## Any filled in values?"
   ]
  },
  {
   "cell_type": "markdown",
   "metadata": {},
   "source": [
    "**Check if mean, median, min or max values occur suspisiously frequently in the dataset.**\n",
    "\n",
    "Values in the dataset are rounded to 6 decimal places, match that."
   ]
  },
  {
   "cell_type": "code",
   "execution_count": null,
   "metadata": {},
   "outputs": [],
   "source": [
    "for column in boston_df.columns:\n",
    "    mean = boston_df[column].mean().round(6)\n",
    "    median = boston_df[column].median().round(6)\n",
    "    min_value = boston_df[column].min().round(6)\n",
    "    max_value = boston_df[column].max().round(6)\n",
    "\n",
    "    mean_frequency = (boston_df[column].round(6).value_counts().get(mean, 0) / len(boston_df)) * 100\n",
    "    median_frequency = (boston_df[column].round(6).value_counts().get(median, 0) / len(boston_df)) * 100\n",
    "    min_frequency = (boston_df[column].round(6).value_counts().get(min_value, 0) / len(boston_df)) * 100\n",
    "    max_frequency = (boston_df[column].round(6).value_counts().get(max_value, 0) / len(boston_df)) * 100\n",
    "\n",
    "    print(f\"{column} - Mean Frequency: {mean_frequency:.2f}%, \"\n",
    "          f\"Median Frequency: {median_frequency:.2f}%, \"\n",
    "          f\"Min Frequency: {min_frequency:.2f}%, \"\n",
    "          f\"Max Frequency: {max_frequency:.2f}%\")\n"
   ]
  },
  {
   "cell_type": "code",
   "execution_count": null,
   "metadata": {},
   "outputs": [],
   "source": [
    "import matplotlib.pyplot as plt\n",
    "\n",
    "# Plotting small histograms for each variable\n",
    "boston_df.hist(figsize=(12, 10), bins=50, grid=False)\n",
    "plt.tight_layout()\n",
    "plt.show()\n"
   ]
  },
  {
   "cell_type": "markdown",
   "metadata": {},
   "source": [
    "Combining the findings from checking the median, mean, min and max values together with the histograms, there should be no major concern regarding the potential influence of filled-in values. While some of the four examined measures do occur quite often in the columns, it does make sense from the nature of each specific variable.\n",
    "\n",
    "The only questionable column is the problematic B column, which will be given more attention later."
   ]
  },
  {
   "cell_type": "markdown",
   "metadata": {},
   "source": [
    "## The LSTAT Variable\n",
    "\n",
    "One of the problematic variables is LSTAT, a percentage of \"lower status population\". The original paper describes it as \n",
    "\n",
    "> Proportion of population that is lower status = 1/2 (proportion of adults without some high education and proportion of male workers classified as laborers)\n",
    "\n",
    "And the authors suggest that \"the effect on price is higher in the upper brackets of society\", and therefore a logarithmic transform should be applied in the models.\n",
    "\n",
    "The sole inclusion and consideration of this variable does raise concerns. For now, we will simply explore its properties and pay more attention to it later on. "
   ]
  },
  {
   "cell_type": "code",
   "execution_count": null,
   "metadata": {},
   "outputs": [],
   "source": [
    "import app.var_examination as ve\n",
    "\n",
    "ve.var_examination(boston_df, \"LSTAT\")\n"
   ]
  },
  {
   "cell_type": "markdown",
   "metadata": {},
   "source": [
    "## TODO LSTAT findings description"
   ]
  },
  {
   "cell_type": "markdown",
   "metadata": {},
   "source": [
    "## The B Variable\n",
    "\n",
    "A key interest of this project is the B variable. We do not plan on commenting neither the reasons for its inclusion both in the original research paper and in the dataset, nor why the issues were recognized only a few years ago. We will try to examine the variable and later show its role in the dataset.\n",
    "\n",
    "In the original research paper, the variable is described as \n",
    "\n",
    "> Black proportion of population. At low or moderate levels of B, an increase of B should have negative on housing values if Blacks are regarded as undesirable by Whites. However, market discrimination means that market prices are higher at very high levels of B. One expects, therefore, a parabolic relationship between proportion Black in a neighborhood and housing values.\n",
    "\n",
    "We should note that the above **definition is wrong on many levels** and should not be considered at all in a real world scenario.\n",
    "\n",
    "TODO"
   ]
  },
  {
   "cell_type": "code",
   "execution_count": null,
   "metadata": {},
   "outputs": [],
   "source": [
    "ve.var_examination(boston_df, \"B\")"
   ]
  },
  {
   "cell_type": "markdown",
   "metadata": {},
   "source": [
    "TODO comments on B"
   ]
  },
  {
   "cell_type": "markdown",
   "metadata": {},
   "source": [
    "TODO comments on the quadratic transformation, sus? Data distortion? We do not know what was the original number Bk"
   ]
  },
  {
   "cell_type": "code",
   "execution_count": null,
   "metadata": {},
   "outputs": [],
   "source": [
    "import numpy as np\n",
    "import matplotlib.pyplot as plt\n",
    "\n",
    "Bk = np.linspace(0, 1, 100)\n",
    "Bf = 1000 * (Bk - 0.63) ** 2\n",
    "\n",
    "plt.plot(Bk, Bf)\n",
    "plt.xlabel('Bk')\n",
    "plt.ylabel('Bf')\n",
    "plt.title('Bf = 1000(Bk-0.63)^2')\n",
    "plt.grid(True)\n",
    "plt.show()\n"
   ]
  }
 ],
 "metadata": {
  "kernelspec": {
   "display_name": "Python 3",
   "language": "python",
   "name": "python3"
  },
  "language_info": {
   "codemirror_mode": {
    "name": "ipython",
    "version": 3
   },
   "file_extension": ".py",
   "mimetype": "text/x-python",
   "name": "python",
   "nbconvert_exporter": "python",
   "pygments_lexer": "ipython3",
   "version": "3.11.5"
  }
 },
 "nbformat": 4,
 "nbformat_minor": 2
}
