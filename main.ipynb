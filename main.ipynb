{
 "cells": [
  {
   "cell_type": "markdown",
   "metadata": {},
   "source": [
    "# The main file of the project."
   ]
  },
  {
   "cell_type": "code",
   "execution_count": 67,
   "metadata": {},
   "outputs": [],
   "source": [
    "from sklearn import datasets\n",
    "import pandas as pd\n",
    "import numpy as np\n",
    "import matplotlib.pyplot as plt\n",
    "import app.var_examination as ve\n",
    "from sklearn.model_selection import train_test_split\n",
    "from sklearn.linear_model import LinearRegression\n",
    "from sklearn.metrics import mean_squared_error, r2_score\n",
    "import seaborn as sns\n",
    "from sklearn.ensemble import RandomForestRegressor\n",
    "from sklearn.model_selection import RandomizedSearchCV, train_test_split\n"
   ]
  },
  {
   "cell_type": "markdown",
   "metadata": {},
   "source": [
    "## Background info\n",
    "\n",
    "The Boston Housing Dataset has been removed from the Scikit-Learn library in December 2022, after decades of its use for teaching purposes. Originally, the dataset comes from a research paper *Hedonic housing prices and the demand for clean air* by D. Harrison and D. Rubinfield, published in 1978. \n",
    "\n",
    "The dataset has been removed and its use is now discouraged for several reasons, the main of which is the inclusion of the `B` variable, which is a column whose values are calculated as `B=1000(Bk-063)^2` where `Bk` is, \"the proportion of blacks by town.\" The quadratic formula is motivated by an argument of the authors that race segregation has positive impact on housing prices, \n",
    "\n",
    "**The goal of this project is to examine the role of the Bk variable and show the issues with its inclussion in the dataset, as well as show the impact of the variable on standard models that were used to process this data.** \n",
    "\n",
    "We state that the inclusion of the variable in this context, and the idea of using race to predict prices without considering it as a tremendous issue, are and always will be unaccpetable.\n",
    "\n",
    "## Current state\n",
    "\n",
    "Importing the dataset in the traditional way now throws the following error:"
   ]
  },
  {
   "cell_type": "code",
   "execution_count": 68,
   "metadata": {},
   "outputs": [
    {
     "name": "stdout",
     "output_type": "stream",
     "text": [
      "\n",
      "`load_boston` has been removed from scikit-learn since version 1.2.\n",
      "\n",
      "The Boston housing prices dataset has an ethical problem: as\n",
      "investigated in [1], the authors of this dataset engineered a\n",
      "non-invertible variable \"B\" assuming that racial self-segregation had a\n",
      "positive impact on house prices [2]. Furthermore the goal of the\n",
      "research that led to the creation of this dataset was to study the\n",
      "impact of air quality but it did not give adequate demonstration of the\n",
      "validity of this assumption.\n",
      "\n",
      "The scikit-learn maintainers therefore strongly discourage the use of\n",
      "this dataset unless the purpose of the code is to study and educate\n",
      "about ethical issues in data science and machine learning.\n",
      "\n",
      "In this special case, you can fetch the dataset from the original\n",
      "source::\n",
      "\n",
      "    import pandas as pd\n",
      "    import numpy as np\n",
      "\n",
      "    data_url = \"http://lib.stat.cmu.edu/datasets/boston\"\n",
      "    raw_df = pd.read_csv(data_url, sep=\"\\s+\", skiprows=22, header=None)\n",
      "    data = np.hstack([raw_df.values[::2, :], raw_df.values[1::2, :2]])\n",
      "    target = raw_df.values[1::2, 2]\n",
      "\n",
      "Alternative datasets include the California housing dataset and the\n",
      "Ames housing dataset. You can load the datasets as follows::\n",
      "\n",
      "    from sklearn.datasets import fetch_california_housing\n",
      "    housing = fetch_california_housing()\n",
      "\n",
      "for the California housing dataset and::\n",
      "\n",
      "    from sklearn.datasets import fetch_openml\n",
      "    housing = fetch_openml(name=\"house_prices\", as_frame=True)\n",
      "\n",
      "for the Ames housing dataset.\n",
      "\n",
      "[1] M Carlisle.\n",
      "\"Racist data destruction?\"\n",
      "<https://medium.com/@docintangible/racist-data-destruction-113e3eff54a8>\n",
      "\n",
      "[2] Harrison Jr, David, and Daniel L. Rubinfeld.\n",
      "\"Hedonic housing prices and the demand for clean air.\"\n",
      "Journal of environmental economics and management 5.1 (1978): 81-102.\n",
      "<https://www.researchgate.net/publication/4974606_Hedonic_housing_prices_and_the_demand_for_clean_air>\n",
      "\n"
     ]
    }
   ],
   "source": [
    "try:\n",
    "    bostn = datasets.load_boston()\n",
    "except Exception as e:\n",
    "    print(e)"
   ]
  },
  {
   "cell_type": "markdown",
   "metadata": {},
   "source": [
    "# Obtaining the data \"by hand\""
   ]
  },
  {
   "cell_type": "markdown",
   "metadata": {},
   "source": [
    "The documentation of Scikit-Learn advises users to obtain the dataset in the csv format from its original source. We respect that and then convert the data to a well-formatted Pandas DataFrame. "
   ]
  },
  {
   "cell_type": "markdown",
   "metadata": {},
   "source": [
    "In the dataset, there are 14 variables:\n",
    "\n",
    "- **CRIM**: per capita crime rate by town\n",
    "- **ZN**: proportion of residential land zoned for lots over 25,000 sq.ft.\n",
    "- **INDUS**: proportion of non-retail business acres per town\n",
    "- **CHAS**: Charles River dummy variable (= 1 if tract bounds river; 0 otherwise)\n",
    "- **NOX**: nitric oxides concentration (parts per 10 million)\n",
    "- **RM**: average number of rooms per dwelling\n",
    "- **AGE**: proportion of owner-occupied units built prior to 1940\n",
    "- **DIS**: weighted distances to five Boston employment centres\n",
    "- **RAD**: index of accessibility to radial highways\n",
    "- **TAX**: full-value property-tax rate per $10,000\n",
    "- **PTRATIO**: pupil-teacher ratio by town\n",
    "- **B**: 1000(Bk - 0.63)^2 where Bk is the proportion of blacks by town\n",
    "- **LSTAT**: % lower status of the population\n",
    "- **MEDV**: Median value of owner-occupied homes in $1000's\n"
   ]
  },
  {
   "cell_type": "code",
   "execution_count": 69,
   "metadata": {},
   "outputs": [],
   "source": [
    "# Import the data as instructed by documentation\n",
    "\n",
    "data_url = \"http://lib.stat.cmu.edu/datasets/boston\"\n",
    "raw_df = pd.read_csv(data_url, sep=\"\\s+\", skiprows=22, header=None)\n",
    "\n",
    "# Split the data into data and target\n",
    "# This is suggested by the docs. \n",
    "# When I skip this and make the df straighaway, it does not work and I dont know why.\n",
    "data = np.hstack([raw_df.values[::2, :], raw_df.values[1::2, :2]])\n",
    "target = raw_df.values[1::2, 2]\n",
    "\n",
    "# Convert the data to a well-formatted dataframe\n",
    "column_names = [\n",
    "    \"CRIM\", \"ZN\", \"INDUS\", \"CHAS\", \"NOX\", \"RM\", \"AGE\",\n",
    "    \"DIS\", \"RAD\", \"TAX\", \"PTRATIO\", \"B\", \"LSTAT\", \"MEDV\"\n",
    "]\n",
    "\n",
    "feature_columns = column_names[:-1] \n",
    "target_column = column_names[-1]\n",
    "\n",
    "boston_df = pd.DataFrame(data, columns=feature_columns)\n",
    "\n",
    "boston_df[target_column] = target"
   ]
  },
  {
   "cell_type": "markdown",
   "metadata": {},
   "source": [
    "# Exploration & Cleaning"
   ]
  },
  {
   "cell_type": "code",
   "execution_count": 70,
   "metadata": {},
   "outputs": [
    {
     "data": {
      "text/html": [
       "<div>\n",
       "<style scoped>\n",
       "    .dataframe tbody tr th:only-of-type {\n",
       "        vertical-align: middle;\n",
       "    }\n",
       "\n",
       "    .dataframe tbody tr th {\n",
       "        vertical-align: top;\n",
       "    }\n",
       "\n",
       "    .dataframe thead th {\n",
       "        text-align: right;\n",
       "    }\n",
       "</style>\n",
       "<table border=\"1\" class=\"dataframe\">\n",
       "  <thead>\n",
       "    <tr style=\"text-align: right;\">\n",
       "      <th></th>\n",
       "      <th>CRIM</th>\n",
       "      <th>ZN</th>\n",
       "      <th>INDUS</th>\n",
       "      <th>CHAS</th>\n",
       "      <th>NOX</th>\n",
       "      <th>RM</th>\n",
       "      <th>AGE</th>\n",
       "      <th>DIS</th>\n",
       "      <th>RAD</th>\n",
       "      <th>TAX</th>\n",
       "      <th>PTRATIO</th>\n",
       "      <th>B</th>\n",
       "      <th>LSTAT</th>\n",
       "      <th>MEDV</th>\n",
       "    </tr>\n",
       "  </thead>\n",
       "  <tbody>\n",
       "    <tr>\n",
       "      <th>count</th>\n",
       "      <td>506.000000</td>\n",
       "      <td>506.000000</td>\n",
       "      <td>506.000000</td>\n",
       "      <td>506.000000</td>\n",
       "      <td>506.000000</td>\n",
       "      <td>506.000000</td>\n",
       "      <td>506.000000</td>\n",
       "      <td>506.000000</td>\n",
       "      <td>506.000000</td>\n",
       "      <td>506.000000</td>\n",
       "      <td>506.000000</td>\n",
       "      <td>506.000000</td>\n",
       "      <td>506.000000</td>\n",
       "      <td>506.000000</td>\n",
       "    </tr>\n",
       "    <tr>\n",
       "      <th>mean</th>\n",
       "      <td>3.613524</td>\n",
       "      <td>11.363636</td>\n",
       "      <td>11.136779</td>\n",
       "      <td>0.069170</td>\n",
       "      <td>0.554695</td>\n",
       "      <td>6.284634</td>\n",
       "      <td>68.574901</td>\n",
       "      <td>3.795043</td>\n",
       "      <td>9.549407</td>\n",
       "      <td>408.237154</td>\n",
       "      <td>18.455534</td>\n",
       "      <td>356.674032</td>\n",
       "      <td>12.653063</td>\n",
       "      <td>22.532806</td>\n",
       "    </tr>\n",
       "    <tr>\n",
       "      <th>std</th>\n",
       "      <td>8.601545</td>\n",
       "      <td>23.322453</td>\n",
       "      <td>6.860353</td>\n",
       "      <td>0.253994</td>\n",
       "      <td>0.115878</td>\n",
       "      <td>0.702617</td>\n",
       "      <td>28.148861</td>\n",
       "      <td>2.105710</td>\n",
       "      <td>8.707259</td>\n",
       "      <td>168.537116</td>\n",
       "      <td>2.164946</td>\n",
       "      <td>91.294864</td>\n",
       "      <td>7.141062</td>\n",
       "      <td>9.197104</td>\n",
       "    </tr>\n",
       "    <tr>\n",
       "      <th>min</th>\n",
       "      <td>0.006320</td>\n",
       "      <td>0.000000</td>\n",
       "      <td>0.460000</td>\n",
       "      <td>0.000000</td>\n",
       "      <td>0.385000</td>\n",
       "      <td>3.561000</td>\n",
       "      <td>2.900000</td>\n",
       "      <td>1.129600</td>\n",
       "      <td>1.000000</td>\n",
       "      <td>187.000000</td>\n",
       "      <td>12.600000</td>\n",
       "      <td>0.320000</td>\n",
       "      <td>1.730000</td>\n",
       "      <td>5.000000</td>\n",
       "    </tr>\n",
       "    <tr>\n",
       "      <th>25%</th>\n",
       "      <td>0.082045</td>\n",
       "      <td>0.000000</td>\n",
       "      <td>5.190000</td>\n",
       "      <td>0.000000</td>\n",
       "      <td>0.449000</td>\n",
       "      <td>5.885500</td>\n",
       "      <td>45.025000</td>\n",
       "      <td>2.100175</td>\n",
       "      <td>4.000000</td>\n",
       "      <td>279.000000</td>\n",
       "      <td>17.400000</td>\n",
       "      <td>375.377500</td>\n",
       "      <td>6.950000</td>\n",
       "      <td>17.025000</td>\n",
       "    </tr>\n",
       "    <tr>\n",
       "      <th>50%</th>\n",
       "      <td>0.256510</td>\n",
       "      <td>0.000000</td>\n",
       "      <td>9.690000</td>\n",
       "      <td>0.000000</td>\n",
       "      <td>0.538000</td>\n",
       "      <td>6.208500</td>\n",
       "      <td>77.500000</td>\n",
       "      <td>3.207450</td>\n",
       "      <td>5.000000</td>\n",
       "      <td>330.000000</td>\n",
       "      <td>19.050000</td>\n",
       "      <td>391.440000</td>\n",
       "      <td>11.360000</td>\n",
       "      <td>21.200000</td>\n",
       "    </tr>\n",
       "    <tr>\n",
       "      <th>75%</th>\n",
       "      <td>3.677083</td>\n",
       "      <td>12.500000</td>\n",
       "      <td>18.100000</td>\n",
       "      <td>0.000000</td>\n",
       "      <td>0.624000</td>\n",
       "      <td>6.623500</td>\n",
       "      <td>94.075000</td>\n",
       "      <td>5.188425</td>\n",
       "      <td>24.000000</td>\n",
       "      <td>666.000000</td>\n",
       "      <td>20.200000</td>\n",
       "      <td>396.225000</td>\n",
       "      <td>16.955000</td>\n",
       "      <td>25.000000</td>\n",
       "    </tr>\n",
       "    <tr>\n",
       "      <th>max</th>\n",
       "      <td>88.976200</td>\n",
       "      <td>100.000000</td>\n",
       "      <td>27.740000</td>\n",
       "      <td>1.000000</td>\n",
       "      <td>0.871000</td>\n",
       "      <td>8.780000</td>\n",
       "      <td>100.000000</td>\n",
       "      <td>12.126500</td>\n",
       "      <td>24.000000</td>\n",
       "      <td>711.000000</td>\n",
       "      <td>22.000000</td>\n",
       "      <td>396.900000</td>\n",
       "      <td>37.970000</td>\n",
       "      <td>50.000000</td>\n",
       "    </tr>\n",
       "  </tbody>\n",
       "</table>\n",
       "</div>"
      ],
      "text/plain": [
       "             CRIM          ZN       INDUS        CHAS         NOX          RM  \\\n",
       "count  506.000000  506.000000  506.000000  506.000000  506.000000  506.000000   \n",
       "mean     3.613524   11.363636   11.136779    0.069170    0.554695    6.284634   \n",
       "std      8.601545   23.322453    6.860353    0.253994    0.115878    0.702617   \n",
       "min      0.006320    0.000000    0.460000    0.000000    0.385000    3.561000   \n",
       "25%      0.082045    0.000000    5.190000    0.000000    0.449000    5.885500   \n",
       "50%      0.256510    0.000000    9.690000    0.000000    0.538000    6.208500   \n",
       "75%      3.677083   12.500000   18.100000    0.000000    0.624000    6.623500   \n",
       "max     88.976200  100.000000   27.740000    1.000000    0.871000    8.780000   \n",
       "\n",
       "              AGE         DIS         RAD         TAX     PTRATIO           B  \\\n",
       "count  506.000000  506.000000  506.000000  506.000000  506.000000  506.000000   \n",
       "mean    68.574901    3.795043    9.549407  408.237154   18.455534  356.674032   \n",
       "std     28.148861    2.105710    8.707259  168.537116    2.164946   91.294864   \n",
       "min      2.900000    1.129600    1.000000  187.000000   12.600000    0.320000   \n",
       "25%     45.025000    2.100175    4.000000  279.000000   17.400000  375.377500   \n",
       "50%     77.500000    3.207450    5.000000  330.000000   19.050000  391.440000   \n",
       "75%     94.075000    5.188425   24.000000  666.000000   20.200000  396.225000   \n",
       "max    100.000000   12.126500   24.000000  711.000000   22.000000  396.900000   \n",
       "\n",
       "            LSTAT        MEDV  \n",
       "count  506.000000  506.000000  \n",
       "mean    12.653063   22.532806  \n",
       "std      7.141062    9.197104  \n",
       "min      1.730000    5.000000  \n",
       "25%      6.950000   17.025000  \n",
       "50%     11.360000   21.200000  \n",
       "75%     16.955000   25.000000  \n",
       "max     37.970000   50.000000  "
      ]
     },
     "execution_count": 70,
     "metadata": {},
     "output_type": "execute_result"
    }
   ],
   "source": [
    "boston_df.describe()"
   ]
  },
  {
   "cell_type": "markdown",
   "metadata": {},
   "source": [
    "## Any missing values?"
   ]
  },
  {
   "cell_type": "code",
   "execution_count": 71,
   "metadata": {},
   "outputs": [
    {
     "data": {
      "text/plain": [
       "CRIM       0\n",
       "ZN         0\n",
       "INDUS      0\n",
       "CHAS       0\n",
       "NOX        0\n",
       "RM         0\n",
       "AGE        0\n",
       "DIS        0\n",
       "RAD        0\n",
       "TAX        0\n",
       "PTRATIO    0\n",
       "B          0\n",
       "LSTAT      0\n",
       "MEDV       0\n",
       "dtype: int64"
      ]
     },
     "execution_count": 71,
     "metadata": {},
     "output_type": "execute_result"
    }
   ],
   "source": [
    "boston_df.isnull().sum()"
   ]
  },
  {
   "cell_type": "markdown",
   "metadata": {},
   "source": [
    "## Any filled in values?"
   ]
  },
  {
   "cell_type": "markdown",
   "metadata": {},
   "source": [
    "**Check if mean, median, min or max values occur suspisiously frequently in the dataset.**\n",
    "\n",
    "Values in the dataset are rounded to 6 decimal places, match that."
   ]
  },
  {
   "cell_type": "code",
   "execution_count": 72,
   "metadata": {},
   "outputs": [
    {
     "ename": "AttributeError",
     "evalue": "'float' object has no attribute 'round'",
     "output_type": "error",
     "traceback": [
      "\u001b[0;31m---------------------------------------------------------------------------\u001b[0m",
      "\u001b[0;31mAttributeError\u001b[0m                            Traceback (most recent call last)",
      "\u001b[1;32m/Users/tony/Documents/škola/IES/Python/JEM207FinalProject/main.ipynb Cell 15\u001b[0m line \u001b[0;36m8\n\u001b[1;32m      <a href='vscode-notebook-cell:/Users/tony/Documents/s%CC%8Ckola/IES/Python/JEM207FinalProject/main.ipynb#Y133sZmlsZQ%3D%3D?line=4'>5</a>\u001b[0m \u001b[39mfor\u001b[39;00m column \u001b[39min\u001b[39;00m boston_df\u001b[39m.\u001b[39mcolumns:\n\u001b[1;32m      <a href='vscode-notebook-cell:/Users/tony/Documents/s%CC%8Ckola/IES/Python/JEM207FinalProject/main.ipynb#Y133sZmlsZQ%3D%3D?line=6'>7</a>\u001b[0m     mean \u001b[39m=\u001b[39m boston_df[column]\u001b[39m.\u001b[39mmean()\u001b[39m.\u001b[39mround(\u001b[39m6\u001b[39m)\n\u001b[0;32m----> <a href='vscode-notebook-cell:/Users/tony/Documents/s%CC%8Ckola/IES/Python/JEM207FinalProject/main.ipynb#Y133sZmlsZQ%3D%3D?line=7'>8</a>\u001b[0m     median \u001b[39m=\u001b[39m boston_df[column]\u001b[39m.\u001b[39mmedian()\u001b[39m.\u001b[39mround(\u001b[39m6\u001b[39m)\n\u001b[1;32m      <a href='vscode-notebook-cell:/Users/tony/Documents/s%CC%8Ckola/IES/Python/JEM207FinalProject/main.ipynb#Y133sZmlsZQ%3D%3D?line=8'>9</a>\u001b[0m     mode \u001b[39m=\u001b[39m boston_df[column]\u001b[39m.\u001b[39mmode()\u001b[39m.\u001b[39mround(\u001b[39m6\u001b[39m)\n\u001b[1;32m     <a href='vscode-notebook-cell:/Users/tony/Documents/s%CC%8Ckola/IES/Python/JEM207FinalProject/main.ipynb#Y133sZmlsZQ%3D%3D?line=9'>10</a>\u001b[0m     min_value \u001b[39m=\u001b[39m boston_df[column]\u001b[39m.\u001b[39mmin()\u001b[39m.\u001b[39mround(\u001b[39m6\u001b[39m)\n",
      "\u001b[0;31mAttributeError\u001b[0m: 'float' object has no attribute 'round'"
     ]
    }
   ],
   "source": [
    "statistics = []\n",
    "\n",
    "# The obtained values are rounded to 6 decimal places, match that with the statistics\n",
    "\n",
    "for column in boston_df.columns:\n",
    "    \n",
    "    mean = boston_df[column].mean().round(6)\n",
    "    median = boston_df[column].median().round(6)\n",
    "    mode = boston_df[column].mode().round(6)\n",
    "    min_value = boston_df[column].min().round(6)\n",
    "    max_value = boston_df[column].max().round(6)\n",
    "\n",
    "    mean_frequency = (boston_df[column].value_counts().get(mean, 0) / len(boston_df)) * 100\n",
    "    median_frequency = (boston_df[column].value_counts().get(median, 0) / len(boston_df)) * 100\n",
    "    mode_frequency = (boston_df[column].value_counts().get(mode[0], 0) / len(boston_df)) * 100\n",
    "    min_frequency = (boston_df[column].value_counts().get(min_value, 0) / len(boston_df)) * 100\n",
    "    max_frequency = (boston_df[column].value_counts().get(max_value, 0) / len(boston_df)) * 100\n",
    "\n",
    "    statistics.append({\n",
    "        'Column': column,\n",
    "        'Mean': f\"{mean_frequency:.2f}%\",\n",
    "        'Median': f\"{median_frequency:.2f}%\",\n",
    "        'Mode': f\"{mode_frequency:.2f}%\",\n",
    "        'Min': f\"{min_frequency:.2f}%\",\n",
    "        'Max': f\"{max_frequency:.2f}%\"\n",
    "    })\n",
    "\n",
    "statistics_df = pd.DataFrame(statistics)\n",
    "print(statistics_df)"
   ]
  },
  {
   "cell_type": "markdown",
   "metadata": {},
   "source": [
    "A few things arise:\n",
    "\n",
    "- **ZN** column is mostly zeroes. That makes sense as it is the proportion of residential land zoned for lots over 25,000 sq.ft.\n",
    "- The high but different percentages of median and max in **RAD** are strange. \n",
    "- **B** variable is likely very skewed to the right.\n",
    "\n",
    "- The mode of 26.09% occurs far too freqeuently."
   ]
  },
  {
   "cell_type": "markdown",
   "metadata": {},
   "source": [
    "## Any duplicates?"
   ]
  },
  {
   "cell_type": "code",
   "execution_count": null,
   "metadata": {},
   "outputs": [],
   "source": [
    "duplicates = boston_df.duplicated()\n",
    "print(duplicates.sum())"
   ]
  },
  {
   "cell_type": "markdown",
   "metadata": {},
   "source": [
    "## What about the distributions?"
   ]
  },
  {
   "cell_type": "code",
   "execution_count": null,
   "metadata": {},
   "outputs": [],
   "source": [
    "boston_df.hist(figsize=(12, 10), bins=50, grid=False)\n",
    "plt.tight_layout()\n",
    "plt.show()"
   ]
  },
  {
   "cell_type": "markdown",
   "metadata": {},
   "source": [
    "The **RAD** distribution is weird. Noted.\n",
    "\n",
    "**TAX** is one of the variables that have mode in 26.09% of rows. In this case, it could indicate that most households have a common tax rate, which is alright. **PTRATIO**, **INDUS**, **RAD** and **B** also have modes at or very close to 26.09%. This could indicate that there was a densly populated area that caused such significant values to occur.\n",
    "\n",
    "\n",
    "\n"
   ]
  },
  {
   "cell_type": "code",
   "execution_count": null,
   "metadata": {},
   "outputs": [
    {
     "name": "stdout",
     "output_type": "stream",
     "text": [
      "      Feature     Score       P-Value\n",
      "13  LOG_LSTAT  6.263466  8.148641e-45\n",
      "12      LSTAT  5.752151  2.982668e-41\n",
      "0        CRIM  3.413923  3.960117e-22\n",
      "5          RM  2.675998  4.618256e-15\n",
      "4         NOX  2.338995  9.794607e-12\n",
      "6         AGE  2.329545  1.214437e-11\n",
      "9         TAX  2.210056  1.831373e-10\n",
      "2       INDUS  2.151220  6.925481e-10\n",
      "8         RAD  1.914649  1.342266e-07\n",
      "11          B  1.818332  1.078021e-06\n",
      "10    PTRATIO  1.776251  2.635683e-06\n",
      "1          ZN  1.698253  1.338482e-05\n",
      "7         DIS  1.506687  5.719354e-04\n",
      "3        CHAS  1.102329  2.192309e-01\n"
     ]
    }
   ],
   "source": [
    "from sklearn.feature_selection import f_classif, SelectKBest\n",
    "\n",
    "# Assuming X contains your features and y is the target variable\n",
    "X = boston_df.drop('MEDV', axis=1)\n",
    "y = boston_df['MEDV']\n",
    "\n",
    "# Perform ANOVA for feature selection\n",
    "k_best = SelectKBest(f_classif, k='all')\n",
    "X_best = k_best.fit_transform(X, y)\n",
    "\n",
    "# Get the scores and p-values\n",
    "feature_scores = k_best.scores_\n",
    "p_values = k_best.pvalues_\n",
    "\n",
    "# Create a DataFrame to examine the results\n",
    "feature_selection_results = pd.DataFrame({'Feature': X.columns, 'Score': feature_scores, 'P-Value': p_values})\n",
    "feature_selection_results = feature_selection_results.sort_values(by='Score', ascending=False)\n",
    "\n",
    "# Print or visualize the results\n",
    "print(feature_selection_results)"
   ]
  },
  {
   "cell_type": "markdown",
   "metadata": {},
   "source": [
    "## The LSTAT Variable\n",
    "\n",
    "One of the problematic variables is LSTAT, a percentage of \"lower status population\". The original paper describes it as \n",
    "\n",
    "> Proportion of population that is lower status = 1/2 (proportion of adults without some high education and proportion of male workers classified as laborers)\n",
    "\n",
    "And the authors suggest that \"the effect on price is higher in the upper brackets of society\", and therefore a logarithmic transform should be applied in the models.\n",
    "\n",
    "The sole inclusion and consideration of this variable does raise concerns. For now, we will simply explore its properties and pay more attention to it later on. "
   ]
  },
  {
   "cell_type": "code",
   "execution_count": null,
   "metadata": {},
   "outputs": [],
   "source": [
    "ve.var_examination(boston_df, \"LSTAT\")"
   ]
  },
  {
   "cell_type": "markdown",
   "metadata": {},
   "source": [
    "## The B Variable\n",
    "\n",
    "A key interest of this project is the B variable. We do not plan on commenting neither the reasons for its inclusion both in the original research paper and in the dataset, nor why the issues were recognized only a few years ago. We will try to examine the variable and later show its role in the dataset.\n",
    "\n",
    "In the original research paper, the variable is described as \n",
    "\n",
    "> Black proportion of population. At low or moderate levels of B, an increase of B should have negative on housing values if Blacks are regarded as undesirable by Whites. However, market discrimination means that market prices are higher at very high levels of B. One expects, therefore, a parabolic relationship between proportion Black in a neighborhood and housing values.\n",
    "\n",
    "We should note that the above **definition is wrong on many levels** and should not be considered at all in a real world scenario."
   ]
  },
  {
   "cell_type": "code",
   "execution_count": null,
   "metadata": {},
   "outputs": [],
   "source": [
    "ve.var_examination(boston_df, \"B\")"
   ]
  },
  {
   "cell_type": "markdown",
   "metadata": {},
   "source": [
    "We question the need to use the non-linear transform of `B=1000(Bk-0.63)^2`. Therefore, an attempt to extract the original value `Bk` is conducted:"
   ]
  },
  {
   "cell_type": "code",
   "execution_count": null,
   "metadata": {},
   "outputs": [],
   "source": [
    "B = boston_df['B']\n",
    "\n",
    "Bk = np.sqrt(B/1000) + 0.63\n",
    "\n",
    "Bk\n",
    "\n"
   ]
  },
  {
   "cell_type": "code",
   "execution_count": null,
   "metadata": {},
   "outputs": [],
   "source": []
  },
  {
   "cell_type": "markdown",
   "metadata": {},
   "source": [
    "# Models"
   ]
  },
  {
   "cell_type": "markdown",
   "metadata": {},
   "source": [
    "In this section, we will further attempt to examine the impact of the B variable on the various models. Typically, for education purposes, the dataset was used to teach regression. We will look at three different regression models: Linear regression, ridge regression and lasso regression. \n",
    "\n",
    "For now, a simple comparisson of with B vs. without B is done:"
   ]
  },
  {
   "cell_type": "markdown",
   "metadata": {},
   "source": [
    "## Linear regression model"
   ]
  },
  {
   "cell_type": "markdown",
   "metadata": {},
   "source": [
    "In following, we will attmpt to train linear regression model capable of predicting value of housing. "
   ]
  },
  {
   "cell_type": "code",
   "execution_count": null,
   "metadata": {},
   "outputs": [
    {
     "name": "stdout",
     "output_type": "stream",
     "text": [
      "Mean Squared Error: 20.20\n",
      "R-squared: 0.77\n",
      "\n",
      "Model without 'B'\n",
      "Mean Squared Error: 20.94\n",
      "R-squared: 0.76\n"
     ]
    },
    {
     "data": {
      "image/png": "[encoded data removed]",
      "text/plain": [
       "<Figure size 1200x500 with 2 Axes>"
      ]
     },
     "metadata": {},
     "output_type": "display_data"
    }
   ],
   "source": [
    "X = boston_df.drop('MEDV', axis=1)\n",
    "Y = boston_df['MEDV']\n",
    "\n",
    "X_train, X_test, Y_train, Y_test = train_test_split(X, Y, test_size=0.8, random_state=42)\n",
    "\n",
    "\n",
    "model = LinearRegression()\n",
    "model.fit(X_train, Y_train)\n",
    "Y_pred = model.predict(X_test)\n",
    "mse = mean_squared_error(Y_test, Y_pred)\n",
    "r2 = r2_score(Y_test, Y_pred)\n",
    "\n",
    "print(f'Mean Squared Error: {mse:.2f}')\n",
    "print(f'R-squared: {r2:.2f}')\n",
    "\n",
    "\n",
    "\n",
    "\n",
    "X_without_B = X.drop('B', axis=1)\n",
    "\n",
    "X_train_without_B, X_test_without_B, Y_train, Y_test = train_test_split(X_without_B, Y, test_size=0.8, random_state=42)\n",
    "\n",
    "model_without_B = LinearRegression()\n",
    "model_without_B.fit(X_train_without_B, Y_train)\n",
    "Y_pred_without_B = model_without_B.predict(X_test_without_B)\n",
    "mse_without_B = mean_squared_error(Y_test, Y_pred_without_B)\n",
    "r2_without_B = r2_score(Y_test, Y_pred_without_B)\n",
    "\n",
    "print(\"\\nModel without 'B'\")\n",
    "print(f'Mean Squared Error: {mse_without_B:.2f}')\n",
    "print(f'R-squared: {r2_without_B:.2f}')\n",
    "\n",
    "\n",
    "\n",
    "\n",
    "plt.figure(figsize=(12, 5))\n",
    "\n",
    "plt.subplot(1, 2, 1)\n",
    "plt.scatter(Y_test, Y_pred)\n",
    "plt.xlabel('Actual Prices (MEDV)')\n",
    "plt.ylabel('Predicted Prices (MEDV)')\n",
    "plt.title('Original Model')\n",
    "\n",
    "plt.subplot(1, 2, 2)\n",
    "plt.scatter(Y_test, Y_pred_without_B)\n",
    "plt.xlabel('Actual Prices (MEDV)')\n",
    "plt.ylabel('Predicted Prices (MEDV)')\n",
    "plt.title('Model without B')\n",
    "\n",
    "plt.show()"
   ]
  },
  {
   "cell_type": "markdown",
   "metadata": {},
   "source": [
    "## Random forest regression"
   ]
  },
  {
   "cell_type": "markdown",
   "metadata": {},
   "source": [
    "For comparison we also implement more complex random forest regression model, as our dataset contains a lot of variables with complex relationships. "
   ]
  },
  {
   "cell_type": "code",
   "execution_count": 76,
   "metadata": {},
   "outputs": [
    {
     "name": "stdout",
     "output_type": "stream",
     "text": [
      "Best Hyperparameters: {'n_estimators': 94, 'min_samples_split': 2, 'min_samples_leaf': 2, 'max_features': 11, 'max_depth': 15}\n",
      "Mean Squared Error: 20.03\n",
      "R-squared: 0.77\n"
     ]
    },
    {
     "data": {
      "image/png": "[encoded data removed]",
      "text/plain": [
       "<Figure size 1000x600 with 1 Axes>"
      ]
     },
     "metadata": {},
     "output_type": "display_data"
    },
    {
     "data": {
      "image/png": "[encoded data removed]",
      "text/plain": [
       "<Figure size 1000x600 with 1 Axes>"
      ]
     },
     "metadata": {},
     "output_type": "display_data"
    }
   ],
   "source": [
    "\n",
    "\n",
    "X = boston_df.drop('MEDV', axis=1)\n",
    "Y = boston_df['MEDV']\n",
    "\n",
    "X_train, X_test, Y_train, Y_test = train_test_split(X, Y, test_size=0.8, random_state=42)\n",
    "\n",
    "model_2 = RandomForestRegressor()\n",
    "param_dist = {\n",
    "    'n_estimators': [int(x) for x in np.linspace(start=10, stop=200, num=10)],\n",
    "    'max_features': ['sqrt', 'log2', None] + list(range(1, X.shape[1] + 1)), \n",
    "    'max_depth': [int(x) for x in np.linspace(1, 20, num=10)],\n",
    "    'min_samples_split': [2, 5, 10],\n",
    "    'min_samples_leaf': [1, 2, 4]\n",
    "}\n",
    "\n",
    "\n",
    "\n",
    "random_search = RandomizedSearchCV(\n",
    "    model_2,\n",
    "    param_distributions=param_dist,\n",
    "    n_iter=10,\n",
    "    cv=5,\n",
    "    scoring='neg_mean_squared_error',\n",
    "    random_state=42,\n",
    "    error_score='raise'\n",
    ")\n",
    "random_search.fit(X_train, Y_train)\n",
    "params = random_search.best_params_\n",
    "rf_model = RandomForestRegressor(**params)\n",
    "rf_model.fit(X_train, Y_train)\n",
    "\n",
    "\n",
    "Y_pred = rf_model.predict(X_test)\n",
    "mse = mean_squared_error(Y_test, Y_pred)\n",
    "r2 = r2_score(Y_test, Y_pred)\n",
    "print(f'Mean Squared Error: {mse:.2f}')\n",
    "print(f'R-squared: {r2:.2f}')\n",
    "\n",
    "\n",
    "importances = rf_model.feature_importances_\n",
    "importance_df = pd.DataFrame({'Feature': X.columns, 'Importance': importances})\n",
    "importance_df = importance_df.sort_values(by='Importance', ascending=False)\n",
    "\n",
    "\n",
    "plt.figure(figsize=(10, 6))\n",
    "plt.barh(importance_df['Feature'], importance_df['Importance'])\n",
    "plt.xlabel('Importance')\n",
    "plt.title('Importances')\n",
    "plt.show()\n",
    "\n",
    "resid = Y_test - Y_pred\n",
    "\n",
    "plt.figure(figsize=(10, 6))\n",
    "plt.scatter(Y_pred, resid)\n",
    "plt.axhline(y=0, color='red', linestyle='--', linewidth=2)\n",
    "plt.xlabel('Predicted Values')\n",
    "plt.ylabel('Residuals')\n",
    "plt.title('Residual Plot')\n",
    "plt.show()\n",
    "\n"
   ]
  },
  {
   "cell_type": "markdown",
   "metadata": {},
   "source": [
    "As highlited above, the LSTAT variable is given a significant role in the model and the dataset, further showing why the dataset is less appropriate for wider use. "
   ]
  },
  {
   "cell_type": "markdown",
   "metadata": {},
   "source": [
    "## Laso regression model"
   ]
  },
  {
   "cell_type": "code",
   "execution_count": null,
   "metadata": {},
   "outputs": [],
   "source": [
    "# Laso regression with vs without B here"
   ]
  },
  {
   "cell_type": "markdown",
   "metadata": {},
   "source": [
    "## Ridge regression model"
   ]
  },
  {
   "cell_type": "markdown",
   "metadata": {},
   "source": [
    "TODO Collinearity?"
   ]
  },
  {
   "cell_type": "code",
   "execution_count": null,
   "metadata": {},
   "outputs": [],
   "source": [
    "# Ridge regression with vs without B here"
   ]
  }
 ],
 "metadata": {
  "kernelspec": {
   "display_name": "Python 3",
   "language": "python",
   "name": "python3"
  },
  "language_info": {
   "codemirror_mode": {
    "name": "ipython",
    "version": 3
   },
   "file_extension": ".py",
   "mimetype": "text/x-python",
   "name": "python",
   "nbconvert_exporter": "python",
   "pygments_lexer": "ipython3",
   "version": "3.11.5"
  }
 },
 "nbformat": 4,
 "nbformat_minor": 2
}
